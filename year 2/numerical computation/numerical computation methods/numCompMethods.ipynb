{
  "cells": [
    {
      "cell_type": "markdown",
      "metadata": {
        "id": "view-in-github",
        "colab_type": "text"
      },
      "source": [
        "<a href=\"https://colab.research.google.com/github/toblaroni/Numerical-Computation-Methods/blob/main/numCompMethods.ipynb\" target=\"_parent\"><img src=\"https://colab.research.google.com/assets/colab-badge.svg\" alt=\"Open In Colab\"/></a>"
      ]
    },
    {
      "cell_type": "code",
      "execution_count": 1,
      "id": "20a2a305-203a-40b0-9451-df559100f61c",
      "metadata": {
        "id": "20a2a305-203a-40b0-9451-df559100f61c"
      },
      "outputs": [],
      "source": [
        "import numpy as np"
      ]
    },
    {
      "cell_type": "markdown",
      "source": [
        "# Gaussian elimination"
      ],
      "metadata": {
        "id": "zOfW2fFt5YUO"
      },
      "id": "zOfW2fFt5YUO"
    },
    {
      "cell_type": "code",
      "source": [
        "def lower_triangular_solve(A, b):\n",
        "    # Make sure the arrays are stored with correct type\n",
        "    A = A.astype(np.float64)\n",
        "    b = b.astype(np.float64)\n",
        "    \n",
        "    # Check A is lower triangular\n",
        "    rows = A.shape[0]\n",
        "    cols = A.shape[1]\n",
        "    \n",
        "    x = np.zeros(b.shape)\n",
        "    \n",
        "    for i in range(0, rows):\n",
        "        for j in range(i + 1, cols):\n",
        "            if (j > i and not np.isclose(A[i, j], 0)):\n",
        "                print(\"Array A is not lower triangular\")\n",
        "                return\n",
        "            elif j == i and np.isclose(A[i, j], 0):\n",
        "                print(\"Array A is not lower triangular1\")\n",
        "                return\n",
        "            \n",
        "    # Solve the system\n",
        "    for i in range(0, rows):\n",
        "        rA = 1 / A[i][i]\n",
        "        sum = 0\n",
        "        for j in range(0, i):\n",
        "            sum += A[i][j] * x[j]\n",
        "        x[i] = rA * (b[i] - sum)\n",
        "    return x"
      ],
      "metadata": {
        "id": "tPc1UEQ74rGy"
      },
      "id": "tPc1UEQ74rGy",
      "execution_count": 2,
      "outputs": []
    },
    {
      "cell_type": "code",
      "source": [
        "def upper_triangular_solve(A, b):\n",
        "    # Make sure array is stored correctly\n",
        "    A = A.astype(np.float64)\n",
        "    b = b.astype(np.float64)\n",
        "    \n",
        "    # Make sure the array is square\n",
        "    n, m = A.shape\n",
        "    if (n != m):\n",
        "        print(\"A is not square\")\n",
        "    \n",
        "    # Make sure it's lower triangular\n",
        "    for i in range(0, n):\n",
        "        for j in range(0, i + 1):\n",
        "            if j < i and not np.isclose(A[i, j], 0):\n",
        "                print(\"A is not upper triangular\")\n",
        "                return\n",
        "            elif j == i and np.isclose(A[i, j], 0):\n",
        "                print(\"A is not upper triangular\")\n",
        "                return\n",
        "            \n",
        "    x = np.empty_like(b)\n",
        "    \n",
        "    # Solve by backward substitution\n",
        "    x[n - 1] = b[n - 1] / A[n - 1, m - 1]\n",
        "    for i in range(2, n+1):\n",
        "        x[n-i] = b[n-i] / A[n-i, n-i]\n",
        "        for j in range(n-i+1, m):\n",
        "            x[n-i] -= A[n-i,j]*x[j] / A[n-i, n-i]\n",
        "    return x"
      ],
      "metadata": {
        "id": "oO3X4tOEJZwe"
      },
      "id": "oO3X4tOEJZwe",
      "execution_count": 3,
      "outputs": []
    },
    {
      "cell_type": "code",
      "source": [
        "def gauss_elimination(A, b):\n",
        "    # Convert to proper precision\n",
        "    A = A.astype(np.float64)\n",
        "    b = b.astype(np.float64)\n",
        "    \n",
        "    # Check shape and diagonals\n",
        "    n, m = A.shape\n",
        "    if not n == m:\n",
        "        raise ValueError(f\"A is not square matrix. n={n}, m={m}\")\n",
        "    for i in range(0, n):\n",
        "        if (A[i, i] == 0):\n",
        "            raise ValueError(f\"Non-zero diagonal value at index {i}\")\n",
        "            \n",
        "    # Perform forward elimination\n",
        "    for j in range(n):\n",
        "        for i in range(j + 1, n):\n",
        "            factor = A[i, j] / A[j, j]\n",
        "            b[i] -= factor * b[j]\n",
        "            for k in range(0, n):\n",
        "                A[i, k] -= factor * A[j, k]\n",
        "\n",
        "    return upper_triangular_solve(A, b)"
      ],
      "metadata": {
        "id": "yYdr58b74zj2"
      },
      "id": "yYdr58b74zj2",
      "execution_count": 4,
      "outputs": []
    },
    {
      "cell_type": "markdown",
      "source": [
        "# Iterative Methods"
      ],
      "metadata": {
        "id": "D8IqOmMy5NMh"
      },
      "id": "D8IqOmMy5NMh"
    },
    {
      "cell_type": "code",
      "execution_count": 5,
      "id": "5e738f15-8409-44cd-800f-efd9882bc304",
      "metadata": {
        "id": "5e738f15-8409-44cd-800f-efd9882bc304"
      },
      "outputs": [],
      "source": [
        "def Jacobi_iteration(A, b, max_iteration, x0=None):\n",
        "    A = A.astype(np.float64)\n",
        "    b = b.astype(np.float64)\n",
        "    \n",
        "    n = len(b)\n",
        "    \n",
        "    for i in range(n):\n",
        "        if np.isclose(A[i, i], 0):\n",
        "            print(\"Diagonal element is non zero\")\n",
        "            return\n",
        "    \n",
        "    P = np.zeros([n, n])\n",
        "    p = np.zeros(n)\n",
        "    for i in range(n):\n",
        "        # Compute P and p\n",
        "        p[i] = b[i] / A[i, i]\n",
        "        for j in range(n):\n",
        "            P[i, j] = A[i, j] / A[i, i]\n",
        "        P[i, i] = 0\n",
        "\n",
        "    if x0 is None:\n",
        "        x = np.zeros_like(b)\n",
        "    else:\n",
        "        x = x0.copy()\n",
        "\n",
        "    # Compute\n",
        "    x = np.zeros(n)\n",
        "    for it in range(max_iteration):\n",
        "        x = p - np.matmul(P, x)\n",
        "    \n",
        "    return x"
      ]
    },
    {
      "cell_type": "code",
      "source": [
        "# Test\n",
        "A = np.array([[2, 1], [1, 2]])\n",
        "b = np.array([3, 3])\n",
        "x_exact = np.array([1,1])\n",
        "\n",
        "myX = Jacobi_iteration(A, b, 100)\n",
        "print('my solution = ', myX)\n"
      ],
      "metadata": {
        "colab": {
          "base_uri": "https://localhost:8080/"
        },
        "id": "XWoQYiOopPKU",
        "outputId": "cada41c3-eb61-479d-af8a-891c4828c85a"
      },
      "id": "XWoQYiOopPKU",
      "execution_count": 6,
      "outputs": [
        {
          "output_type": "stream",
          "name": "stdout",
          "text": [
            "my solution =  [1. 1.]\n"
          ]
        }
      ]
    },
    {
      "cell_type": "code",
      "execution_count": 7,
      "id": "7a906207-1c4f-431c-9b32-097b53818b27",
      "metadata": {
        "id": "7a906207-1c4f-431c-9b32-097b53818b27"
      },
      "outputs": [],
      "source": [
        "def Gauss_Seidel_iteration(A, b, max_iteration, x0=None):\n",
        "\n",
        "    A = A.astype(np.float64)\n",
        "    b = b.astype(np.float64)\n",
        "\n",
        "    n, m = A.shape\n",
        "    \n",
        "    for i in range(n):\n",
        "        if np.isclose(A[i, i], 0):\n",
        "            print(\"Diagonal element (%f %f) is zero!\" %(i, i))\n",
        "            return\n",
        "        \n",
        "    LD = np.zeros_like(A)\n",
        "    U = np.zeros_like(A)\n",
        "    for i in range(n):\n",
        "        for j in range(n):\n",
        "            if i < j:\n",
        "                U[i, j] = A[i, j]\n",
        "            else:\n",
        "                LD[i, j] = A[i, j]\n",
        "\n",
        "    p = lower_triangular_solve(LD, b)\n",
        "    \n",
        "    if x0 is None:\n",
        "        x = np.zeros_like(b)\n",
        "    else:\n",
        "        x = x0.copy()\n",
        "    \n",
        "    # Array to hold the results\n",
        "    Ux = np.empty_like(x)\n",
        "    for it in range(max_iteration):\n",
        "        for i in range(n):\n",
        "            Ux[i] = 0.0\n",
        "            for j in range(i+1, n):\n",
        "                Ux[i] += U[i, j] * x[j]\n",
        "        Px = lower_triangular_solve(LD, Ux)\n",
        "        x = p - Px\n",
        "    return x"
      ]
    },
    {
      "cell_type": "code",
      "source": [
        "# Code for calculating residual\n",
        "def calc_residual(A, x, b):\n",
        "    res = np.matmul(A, x) - b\n",
        "    sum = 0\n",
        "    for i in range(len(res)):\n",
        "        sum += res[i] ** 2\n",
        "    return np.sqrt(sum)"
      ],
      "metadata": {
        "id": "c_3iv0LCurjP"
      },
      "id": "c_3iv0LCurjP",
      "execution_count": 8,
      "outputs": []
    },
    {
      "cell_type": "code",
      "source": [
        "# Test different linear solvers starting from the above two-dimensional linear system\n",
        "A = np.array([[2, -1, 0], [-1, 1, 3], [1, 0, 1]])\n",
        "b = np.array([1, 3, 2])\n",
        "# x_exact = np.array([1,1])\n",
        "\n",
        "x0 = np.array([0, 0, 0])\n",
        "\n",
        "# numpy linear solver\n",
        "# x0 = np.linalg.solve(A,b)\n",
        "# print(\"Solution by numpy solver:\", x0)\n",
        "\n",
        "# x = Jacobi_iteration(A, b, 40)\n",
        "# print(\"Solution by Jacobi iteration: \",x)\n",
        "# print(\"Error: \", x - x_exact)\n",
        "# print(\"Residual: \", np.matmul(A,x)-b)\n",
        "\n",
        "\n",
        "print(\"Residual before: \", np.matmul(A,x0)-b)\n",
        "residualI = calc_residual(A, x0, b)\n",
        "x = Gauss_Seidel_iteration(A, b, 1, x0)\n",
        "print(\"Solution by Gauss Seidel iteration: \",x)\n",
        "# print(\"Error: \", x - x_exact)\n",
        "# print(\"Residual: \", np.matmul(A,x)-b)\n",
        "print(\"Initial residual\", residualI)\n",
        "print(calc_residual(A, x, b))\n"
      ],
      "metadata": {
        "colab": {
          "base_uri": "https://localhost:8080/"
        },
        "id": "t5NfD6J7BOeF",
        "outputId": "4bd09037-93eb-4953-ad1c-6fc3ebcaf8a0"
      },
      "id": "t5NfD6J7BOeF",
      "execution_count": 9,
      "outputs": [
        {
          "output_type": "stream",
          "name": "stdout",
          "text": [
            "Residual before:  [-1 -3 -2]\n",
            "Solution by Gauss Seidel iteration:  [0.5 3.5 1.5]\n",
            "Initial residual 3.7416573867739413\n",
            "5.70087712549569\n"
          ]
        }
      ]
    },
    {
      "cell_type": "markdown",
      "source": [
        "# Gaussian Elimination With pivoting"
      ],
      "metadata": {
        "id": "0zT1UhmPD_4l"
      },
      "id": "0zT1UhmPD_4l"
    },
    {
      "cell_type": "code",
      "source": [
        "def Gaussian_elimination_pivoting(A, b):\n",
        "    A = A.astype(np.float64)\n",
        "    b = b.astype(np.float64)\n",
        "\n",
        "    n = len(b)\n",
        "\n",
        "    for i in range(n):\n",
        "        maximum = A[i, i]\n",
        "        max_index = i\n",
        "        for j in range(i+1, n):\n",
        "            if abs(A[j, i]) > maximum:\n",
        "                maximum = abs(A[j, i])\n",
        "                max_index = j\n",
        "\n",
        "        # Swap rows if necessary\n",
        "        if max_index is not i:\n",
        "            for j in range(n):\n",
        "                tmp = A[i, j]\n",
        "                A[i, j] = A[max_index, j]\n",
        "                A[max_index, j] = tmp\n",
        "            tmp = b[i]\n",
        "            b[i] = b[max_index]\n",
        "            b[max_index] = tmp\n",
        "        \n",
        "        # Gaussian elimination to create upper triangular matrix\n",
        "        for j in range(i + 1, n):\n",
        "            factor = A[j, i] / A[i, i]\n",
        "            b[j] -= factor * b[i]\n",
        "            for k in range(0, n):\n",
        "                A[j, k] -= factor * A[i, k]\n",
        "\n",
        "    return upper_triangular_solve(A, b)"
      ],
      "metadata": {
        "id": "csTs3xh9DjPX"
      },
      "id": "csTs3xh9DjPX",
      "execution_count": 10,
      "outputs": []
    },
    {
      "cell_type": "code",
      "source": [
        "# Testing\n",
        "A = np.array([[-1, 1],\n",
        "              [0, 1],\n",
        "              [1, 1]])\n",
        "\n",
        "b = np.array([0.5, 1.2, 1.5])\n",
        "\n",
        "AT = np.transpose(A)\n",
        "ATA = np.matmul(AT, A)\n",
        "ATb = np.matmul(AT, b)\n",
        "\n",
        "# numpy linear solvers\n",
        "x0 = np.linalg.solve(ATA,ATb)\n",
        "print(x0)\n",
        "# print(\"Solution by numpy solver:\", x0)\n",
        "\n",
        "# x = Gaussian_elimination_pivoting(A, b)\n",
        "# print(\"Gaussian elimination: \",x)\n",
        "# print(\"Residual: \", np.matmul(A,x)-b)"
      ],
      "metadata": {
        "colab": {
          "base_uri": "https://localhost:8080/"
        },
        "id": "lmR6_ZHdKp9b",
        "outputId": "301dd164-f046-49b0-de76-fcc523c0f640"
      },
      "id": "lmR6_ZHdKp9b",
      "execution_count": 11,
      "outputs": [
        {
          "output_type": "stream",
          "name": "stdout",
          "text": [
            "[0.5        1.06666667]\n"
          ]
        }
      ]
    },
    {
      "cell_type": "markdown",
      "source": [
        "# Sparse matrix multiplication"
      ],
      "metadata": {
        "id": "s34LNRIeMMfe"
      },
      "id": "s34LNRIeMMfe"
    },
    {
      "cell_type": "code",
      "source": [
        "import numpy as np\n",
        "\n",
        "A_real = np.array([3, 1.5, 4, 4, 2.2, 2, 6, 4, -9], dtype=np.float64)\n",
        "I_row = np.array([0,   0,  1, 1,  1,  2, 2, 3, 3], dtype=np.int32)\n",
        "I_col = np.array([0,   2,  0, 1,  2,  1, 2, 2, 3], dtype=np.int32) \n",
        "\n",
        "nonzero = len(A_real)\n",
        "dim = 4\n",
        "y = np.zeros(dim) + 1.\n",
        "z = np.zeros(dim)\n",
        "\n",
        "for k in range(nonzero):\n",
        "    z[I_row[k]] += A_real[k] * y[I_col[k]]\n",
        "\n",
        "print(z)"
      ],
      "metadata": {
        "colab": {
          "base_uri": "https://localhost:8080/"
        },
        "id": "pADFXj_mMK5O",
        "outputId": "8d03addc-7f48-4dbf-e609-5918ad993e5d"
      },
      "id": "pADFXj_mMK5O",
      "execution_count": 12,
      "outputs": [
        {
          "output_type": "stream",
          "name": "stdout",
          "text": [
            "[ 4.5 10.2  8.  -5. ]\n"
          ]
        }
      ]
    },
    {
      "cell_type": "markdown",
      "source": [
        "# Euler's Method"
      ],
      "metadata": {
        "id": "nveB00pFh9Ko"
      },
      "id": "nveB00pFh9Ko"
    },
    {
      "cell_type": "code",
      "source": [
        "def Euler_method(t0, d0, dt, n):\n",
        "    d = np.zeros(n+1)\n",
        "    d[0] = d0\n",
        "\n",
        "    t = np.zeros(n+1)\n",
        "    for i in range(n+1):\n",
        "        t[i] = t0 + i * dt\n",
        "\n",
        "    # Compute Euler's method\n",
        "    for it in range(1, n+1):\n",
        "        d[it] = d[it - 1] + dt * f(t[it - 1], d[it - 1])\n",
        "\n",
        "    return t, d\n"
      ],
      "metadata": {
        "id": "dFm2WENPh6c3"
      },
      "id": "dFm2WENPh6c3",
      "execution_count": 13,
      "outputs": []
    },
    {
      "cell_type": "markdown",
      "source": [
        "# Midpoint method"
      ],
      "metadata": {
        "id": "YuO8E0b42yOf"
      },
      "id": "YuO8E0b42yOf"
    },
    {
      "cell_type": "code",
      "source": [
        "def midpoint_method(t0, d0, dt, n):\n",
        "    d = np.zeros(n+1)\n",
        "    d[0] = d0\n",
        "\n",
        "    t = np.zeros(n+1)\n",
        "    for i in range(n+1):\n",
        "        t[i] = t0 + dt*i\n",
        "    \n",
        "    for i in range(1, n+1):\n",
        "        d_mid = d[i-1] + 0.5 * dt * f(t[i-1], d[i-1])\n",
        "        t_mid = t[i-1] + dt*0.5\n",
        "        d[i] = d[i-1] + dt * f(t_mid, d_mid)\n",
        "\n",
        "    return t, d"
      ],
      "metadata": {
        "id": "Y6vkShoy2QdJ"
      },
      "id": "Y6vkShoy2QdJ",
      "execution_count": 14,
      "outputs": []
    },
    {
      "cell_type": "code",
      "source": [
        "def f(t, d):\n",
        "    return np.cos(2*np.pi*d)\n",
        "\n",
        "def d_exact(t):\n",
        "    return\n",
        "\n",
        "t0 = float(0.)\n",
        "d0 = float(0.0)\n",
        "dt = float(0.5)\n",
        "n = int(2)\n",
        "\n",
        "t_Euler, d_Euler = midpoint_method(t0, d0, dt, n)\n",
        "# t_midpoint, d_midpoint = midpoint_method(t0, d0, dt, n)\n",
        "\n",
        "de = np.zeros(n+1)\n",
        "for i in range(n+1):\n",
        "    de[i] = d_exact(t_Euler[i])\n",
        "    \n",
        "\n",
        "print(d_Euler)\n",
        "# import matplotlib.pyplot as plt\n",
        "# fig = plt.figure()\n",
        "# plt.plot(t_Euler, d_Euler, \"-b\", label=\"Euler\")\n",
        "# plt.plot(t_Euler, de, \"-r\", label=\"Exact\")\n",
        "# plt.plot(t_midpoint, d_midpoint, \"--g\", label=\"midpoint\")\n",
        "# plt.legend(loc=\"upper left\")\n",
        "# plt.xlabel(\"t\")\n",
        "# plt.ylabel(\"d\")\n",
        "# plt.grid()\n",
        "# plt.show()"
      ],
      "metadata": {
        "colab": {
          "base_uri": "https://localhost:8080/"
        },
        "id": "NqCeou6I5qc3",
        "outputId": "a440ea85-bae0-4d4e-bc87-8bf52cc02845"
      },
      "id": "NqCeou6I5qc3",
      "execution_count": 15,
      "outputs": [
        {
          "output_type": "stream",
          "name": "stdout",
          "text": [
            "[ 0.00000000e+00  3.06161700e-17 -1.60812265e-16]\n"
          ]
        }
      ]
    },
    {
      "cell_type": "markdown",
      "source": [
        "# Bisection and Newton Methods"
      ],
      "metadata": {
        "id": "ra987lYDKNhc"
      },
      "id": "ra987lYDKNhc"
    },
    {
      "cell_type": "code",
      "source": [
        "def newton(f, df, x0, tol, n):\n",
        "    x = x0\n",
        "    y = f(x)\n",
        "    it = 0\n",
        "    while abs(y) > tol and it < n:\n",
        "        it += 1\n",
        "        x -= y / df(x)\n",
        "        y = f(x)\n",
        "    return x, it\n",
        "\n",
        "def bisection(f, x0, x1, tol, n):\n",
        "    it = 0\n",
        "    x = (x0 + x1) / 2.\n",
        "    xL = x0\n",
        "    xR = x1\n",
        "\n",
        "    y = f(x)\n",
        "    yL = f(xL)\n",
        "    yR = f(xR)\n",
        "    while abs(y) > tol:\n",
        "        if (it > 100000):\n",
        "            print(\"Bisection Method failed to converge\")\n",
        "            return x, np.inf\n",
        "        if y*yL < 0:\n",
        "            xR = x\n",
        "            yR = y\n",
        "        elif y * yR < 0:\n",
        "            xL = x\n",
        "            yL = y\n",
        "        x = (xL + xR) / 2\n",
        "        y = f(x)\n",
        "        it += 1\n",
        "        # relErr = abs((x - 1.5) / 1.5)\n",
        "    \n",
        "    return x, it"
      ],
      "metadata": {
        "id": "4kFpA5FbSG2N"
      },
      "id": "4kFpA5FbSG2N",
      "execution_count": 16,
      "outputs": []
    },
    {
      "cell_type": "code",
      "source": [
        "m = 1\n",
        "def f(t):\n",
        "    return t*t - (m + 1/m)*t + 1\n",
        "\n",
        "def df(t):\n",
        "    return 2*t - (m + m**-1)\n",
        "\n",
        "print(df(0))\n",
        "\n",
        "x, it = newton(f, df, 0.0, 0.5, 100)\n",
        "print(f\"Newton's method: {x} after {it} iterations\")\n",
        "\n",
        "x, it = bisection(f, 0.0, 0.1, 0.5, 1000)\n",
        "print(f\"Bisection method: {x} after {it} iterations\")"
      ],
      "metadata": {
        "colab": {
          "base_uri": "https://localhost:8080/"
        },
        "id": "OqHZlPJVspC1",
        "outputId": "b3e48d1f-3c3a-495f-c5d1-632a82b51a50"
      },
      "id": "OqHZlPJVspC1",
      "execution_count": 17,
      "outputs": [
        {
          "output_type": "stream",
          "name": "stdout",
          "text": [
            "-2.0\n",
            "Newton's method: 0.5 after 1 iterations\n",
            "Bisection Method failed to converge\n",
            "Bisection method: 0.05 after inf iterations\n"
          ]
        }
      ]
    },
    {
      "cell_type": "markdown",
      "source": [
        "# Secant Method"
      ],
      "metadata": {
        "id": "3gtaQ_z-x3Rg"
      },
      "id": "3gtaQ_z-x3Rg"
    },
    {
      "cell_type": "code",
      "source": [
        "def f(x):\n",
        "    return x*x*x - 6.0*x*x + 9.0*x\n",
        "\n",
        "X = np.linspace(-1., 4., num=100, endpoint=True)\n",
        "Y = np.zeros(100)\n",
        "for i in range(len(Y)):\n",
        "    Y[i] = f(X[i])\n",
        "\n",
        "import matplotlib.pyplot as plt\n",
        "fig = plt.figure()\n",
        "plt.plot(X, Y)\n",
        "plt.grid()\n",
        "plt.show()\n"
      ],
      "metadata": {
        "colab": {
          "base_uri": "https://localhost:8080/",
          "height": 269
        },
        "id": "A_VEX31Vx7ni",
        "outputId": "b9319dc2-ea19-497a-d7ab-5b568bd28765"
      },
      "id": "A_VEX31Vx7ni",
      "execution_count": 18,
      "outputs": [
        {
          "output_type": "display_data",
          "data": {
            "text/plain": [
              "<Figure size 432x288 with 1 Axes>"
            ],
            "image/png": "[encoded data removed]"
          },
          "metadata": {
            "needs_background": "light"
          }
        }
      ]
    },
    {
      "cell_type": "code",
      "source": [
        "def secant(f, x0, x1, tol):\n",
        "    x = x1\n",
        "    it = 0\n",
        "    while abs(f(x)) > tol:\n",
        "        x = x - f(x) * ((x - x0) / (f(x) - f(x0)))\n",
        "        x0 = x1\n",
        "        x1 = x\n",
        "        it += 1\n",
        "    return x, it\n",
        "\n",
        "x, it = secant(f, 4.0, 5.0, 1.e-6)\n",
        "print(f\"The secant method: {x} after {it} iterations\")"
      ],
      "metadata": {
        "colab": {
          "base_uri": "https://localhost:8080/"
        },
        "id": "19ULmpHW21eA",
        "outputId": "6fff7a54-e5cd-441d-be73-25f079e5d3bc"
      },
      "id": "19ULmpHW21eA",
      "execution_count": 19,
      "outputs": [
        {
          "output_type": "stream",
          "name": "stdout",
          "text": [
            "The secant method: 3.0004913634209194 after 17 iterations\n"
          ]
        }
      ]
    },
    {
      "cell_type": "markdown",
      "source": [
        "# Least Squares Fitting"
      ],
      "metadata": {
        "id": "HZ7V9EaC9pwf"
      },
      "id": "HZ7V9EaC9pwf"
    },
    {
      "cell_type": "code",
      "source": [
        "# Function to solve the normal equations for an\n",
        "# Overdetermined system\n",
        "def normal_equations(A, b):\n",
        "    A = A.astype(np.float64)\n",
        "    b = b.astype(np.float64)\n",
        "\n",
        "    AT = np.transpose(A)\n",
        "    ATA = np.matmul(AT, A)\n",
        "    ATb = np.matmul(AT, b)\n",
        "\n",
        "    return np.linalg.solve(ATA, ATb)\n"
      ],
      "metadata": {
        "colab": {
          "base_uri": "https://localhost:8080/"
        },
        "id": "GXnKOzyo9u0S",
        "outputId": "5a625cf7-a3b7-478f-86e0-f279c3a4615f"
      },
      "id": "GXnKOzyo9u0S",
      "execution_count": 26,
      "outputs": [
        {
          "output_type": "execute_result",
          "data": {
            "text/plain": [
              "array([0.08571429, 0.4       , 1.42857143])"
            ]
          },
          "metadata": {},
          "execution_count": 26
        }
      ]
    },
    {
      "cell_type": "code",
      "source": [
        "A = np.array([[1,  -1,   1],\n",
        "              [1, -0.5, 0.25],\n",
        "              [1,   0,   0],\n",
        "              [1, 0.5, 0.25],\n",
        "              [1,  1,   1]])\n",
        "b = np.array([1, 0.5, 0, 0.5, 2])\n",
        "normal_equations(A, b)"
      ],
      "metadata": {
        "id": "1bNHeUXbA3Un"
      },
      "id": "1bNHeUXbA3Un",
      "execution_count": null,
      "outputs": []
    }
  ],
  "metadata": {
    "kernelspec": {
      "display_name": "Python 3 (ipykernel)",
      "language": "python",
      "name": "python3"
    },
    "language_info": {
      "codemirror_mode": {
        "name": "ipython",
        "version": 3
      },
      "file_extension": ".py",
      "mimetype": "text/x-python",
      "name": "python",
      "nbconvert_exporter": "python",
      "pygments_lexer": "ipython3",
      "version": "3.9.12"
    },
    "colab": {
      "provenance": [],
      "include_colab_link": true
    }
  },
  "nbformat": 4,
  "nbformat_minor": 5
}